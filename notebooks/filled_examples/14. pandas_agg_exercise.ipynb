{
 "cells": [
  {
   "cell_type": "markdown",
   "metadata": {},
   "source": [
    "# Exercise\n",
    "\n",
    "What follows are several exercises regarding aggregation and grouping in pandas.\n",
    "\n",
    "In this exercise, you will work with a fictional dataset containing sales data for a retail store. The dataset is provided in CSV format and consists of the following columns:\n",
    "\n",
    "1. Employee_ID: Unique identifier for each employee (Integer).\n",
    "2. Department: Department where the employee works (Categorical - String).\n",
    "3. Gender: Gender of the employee (Categorical - String).\n",
    "4. Age: Age of the employee (Integer).\n",
    "5. Years_of_Experience: Number of years of experience of the employee (Integer).\n",
    "6. Performance_Rating: Performance rating of the employee (Float, scale of 1 to 5).\n",
    "Your task is to use pandas to perform various data analysis tasks and derive insights from the dataset."
   ]
  },
  {
   "cell_type": "code",
   "execution_count": 6,
   "metadata": {},
   "outputs": [
    {
     "data": {
      "text/html": [
       "<div>\n",
       "<style scoped>\n",
       "    .dataframe tbody tr th:only-of-type {\n",
       "        vertical-align: middle;\n",
       "    }\n",
       "\n",
       "    .dataframe tbody tr th {\n",
       "        vertical-align: top;\n",
       "    }\n",
       "\n",
       "    .dataframe thead th {\n",
       "        text-align: right;\n",
       "    }\n",
       "</style>\n",
       "<table border=\"1\" class=\"dataframe\">\n",
       "  <thead>\n",
       "    <tr style=\"text-align: right;\">\n",
       "      <th></th>\n",
       "      <th>Employee_ID</th>\n",
       "      <th>Department</th>\n",
       "      <th>Gender</th>\n",
       "      <th>Age</th>\n",
       "      <th>Years_of_Experience</th>\n",
       "      <th>Performance_Rating</th>\n",
       "    </tr>\n",
       "  </thead>\n",
       "  <tbody>\n",
       "    <tr>\n",
       "      <th>0</th>\n",
       "      <td>101</td>\n",
       "      <td>HR</td>\n",
       "      <td>Male</td>\n",
       "      <td>35</td>\n",
       "      <td>10</td>\n",
       "      <td>4.5</td>\n",
       "    </tr>\n",
       "    <tr>\n",
       "      <th>1</th>\n",
       "      <td>102</td>\n",
       "      <td>IT</td>\n",
       "      <td>Female</td>\n",
       "      <td>28</td>\n",
       "      <td>5</td>\n",
       "      <td>3.8</td>\n",
       "    </tr>\n",
       "    <tr>\n",
       "      <th>2</th>\n",
       "      <td>103</td>\n",
       "      <td>Marketing</td>\n",
       "      <td>Male</td>\n",
       "      <td>42</td>\n",
       "      <td>15</td>\n",
       "      <td>4.9</td>\n",
       "    </tr>\n",
       "    <tr>\n",
       "      <th>3</th>\n",
       "      <td>104</td>\n",
       "      <td>Finance</td>\n",
       "      <td>Female</td>\n",
       "      <td>39</td>\n",
       "      <td>12</td>\n",
       "      <td>4.2</td>\n",
       "    </tr>\n",
       "    <tr>\n",
       "      <th>4</th>\n",
       "      <td>105</td>\n",
       "      <td>HR</td>\n",
       "      <td>Male</td>\n",
       "      <td>45</td>\n",
       "      <td>20</td>\n",
       "      <td>4.7</td>\n",
       "    </tr>\n",
       "    <tr>\n",
       "      <th>5</th>\n",
       "      <td>106</td>\n",
       "      <td>IT</td>\n",
       "      <td>Female</td>\n",
       "      <td>32</td>\n",
       "      <td>8</td>\n",
       "      <td>4.0</td>\n",
       "    </tr>\n",
       "    <tr>\n",
       "      <th>6</th>\n",
       "      <td>107</td>\n",
       "      <td>Marketing</td>\n",
       "      <td>Male</td>\n",
       "      <td>37</td>\n",
       "      <td>13</td>\n",
       "      <td>4.8</td>\n",
       "    </tr>\n",
       "    <tr>\n",
       "      <th>7</th>\n",
       "      <td>108</td>\n",
       "      <td>Finance</td>\n",
       "      <td>Female</td>\n",
       "      <td>41</td>\n",
       "      <td>18</td>\n",
       "      <td>4.3</td>\n",
       "    </tr>\n",
       "    <tr>\n",
       "      <th>8</th>\n",
       "      <td>109</td>\n",
       "      <td>HR</td>\n",
       "      <td>Female</td>\n",
       "      <td>29</td>\n",
       "      <td>6</td>\n",
       "      <td>4.9</td>\n",
       "    </tr>\n",
       "    <tr>\n",
       "      <th>9</th>\n",
       "      <td>110</td>\n",
       "      <td>IT</td>\n",
       "      <td>Female</td>\n",
       "      <td>36</td>\n",
       "      <td>11</td>\n",
       "      <td>4.6</td>\n",
       "    </tr>\n",
       "  </tbody>\n",
       "</table>\n",
       "</div>"
      ],
      "text/plain": [
       "   Employee_ID Department  Gender  Age  Years_of_Experience  \\\n",
       "0          101         HR    Male   35                   10   \n",
       "1          102         IT  Female   28                    5   \n",
       "2          103  Marketing    Male   42                   15   \n",
       "3          104    Finance  Female   39                   12   \n",
       "4          105         HR    Male   45                   20   \n",
       "5          106         IT  Female   32                    8   \n",
       "6          107  Marketing    Male   37                   13   \n",
       "7          108    Finance  Female   41                   18   \n",
       "8          109         HR  Female   29                    6   \n",
       "9          110         IT  Female   36                   11   \n",
       "\n",
       "   Performance_Rating  \n",
       "0                 4.5  \n",
       "1                 3.8  \n",
       "2                 4.9  \n",
       "3                 4.2  \n",
       "4                 4.7  \n",
       "5                 4.0  \n",
       "6                 4.8  \n",
       "7                 4.3  \n",
       "8                 4.9  \n",
       "9                 4.6  "
      ]
     },
     "execution_count": 6,
     "metadata": {},
     "output_type": "execute_result"
    }
   ],
   "source": [
    "import pandas as pd\n",
    "\n",
    "# Create a fictional dataset\n",
    "data = {\n",
    "    'Employee_ID': [101, 102, 103, 104, 105, 106, 107, 108, 109, 110],\n",
    "    'Department': ['HR', 'IT', 'Marketing', 'Finance', 'HR', 'IT', 'Marketing', 'Finance', 'HR', 'IT'],\n",
    "    'Gender': ['Male', 'Female', 'Male', 'Female', 'Male', 'Female', 'Male', 'Female', 'Female', 'Female'],\n",
    "    'Age': [35, 28, 42, 39, 45, 32, 37, 41, 29, 36],\n",
    "    'Years_of_Experience': [10, 5, 15, 12, 20, 8, 13, 18, 6, 11],\n",
    "    'Performance_Rating': [4.5, 3.8, 4.9, 4.2, 4.7, 4.0, 4.8, 4.3, 4.9, 4.6]\n",
    "}\n",
    "\n",
    "# Convert the dictionary to a DataFrame\n",
    "df = pd.DataFrame(data)\n",
    "df\n"
   ]
  },
  {
   "cell_type": "markdown",
   "metadata": {},
   "source": [
    "### 1. Calculate Average Performance Rating by Department and Gender:\n",
    "- Group the data by Department and Gender.\n",
    "- Calculate the average Performance_Rating for each group."
   ]
  },
  {
   "cell_type": "code",
   "execution_count": 7,
   "metadata": {},
   "outputs": [
    {
     "name": "stdout",
     "output_type": "stream",
     "text": [
      "Average performance rating by department and gender:\n"
     ]
    },
    {
     "data": {
      "text/plain": [
       "Department  Gender\n",
       "Finance     Female    4.250000\n",
       "HR          Female    4.900000\n",
       "            Male      4.600000\n",
       "IT          Female    4.133333\n",
       "Marketing   Male      4.850000\n",
       "Name: Performance_Rating, dtype: float64"
      ]
     },
     "execution_count": 7,
     "metadata": {},
     "output_type": "execute_result"
    }
   ],
   "source": [
    "# Calculate average performance rating by department and gender\n",
    "avg_rating_dept_gender = df.groupby(['Department', 'Gender'])['Performance_Rating'].mean()\n",
    "\n",
    "# Display the result\n",
    "print(\"Average performance rating by department and gender:\")\n",
    "avg_rating_dept_gender\n"
   ]
  },
  {
   "cell_type": "markdown",
   "metadata": {},
   "source": [
    "### 2. Identify Top Performer in Each Department:\n",
    "- For each department, identify the employee with the highest Performance_Rating.\n",
    "- Display the employee's Employee_ID, Department, and Performance_Rating."
   ]
  },
  {
   "cell_type": "code",
   "execution_count": 9,
   "metadata": {},
   "outputs": [
    {
     "name": "stdout",
     "output_type": "stream",
     "text": [
      "\n",
      "Top performer in each department:\n"
     ]
    },
    {
     "data": {
      "text/html": [
       "<div>\n",
       "<style scoped>\n",
       "    .dataframe tbody tr th:only-of-type {\n",
       "        vertical-align: middle;\n",
       "    }\n",
       "\n",
       "    .dataframe tbody tr th {\n",
       "        vertical-align: top;\n",
       "    }\n",
       "\n",
       "    .dataframe thead th {\n",
       "        text-align: right;\n",
       "    }\n",
       "</style>\n",
       "<table border=\"1\" class=\"dataframe\">\n",
       "  <thead>\n",
       "    <tr style=\"text-align: right;\">\n",
       "      <th></th>\n",
       "      <th>Employee_ID</th>\n",
       "      <th>Department</th>\n",
       "      <th>Performance_Rating</th>\n",
       "    </tr>\n",
       "  </thead>\n",
       "  <tbody>\n",
       "    <tr>\n",
       "      <th>7</th>\n",
       "      <td>108</td>\n",
       "      <td>Finance</td>\n",
       "      <td>4.3</td>\n",
       "    </tr>\n",
       "    <tr>\n",
       "      <th>8</th>\n",
       "      <td>109</td>\n",
       "      <td>HR</td>\n",
       "      <td>4.9</td>\n",
       "    </tr>\n",
       "    <tr>\n",
       "      <th>9</th>\n",
       "      <td>110</td>\n",
       "      <td>IT</td>\n",
       "      <td>4.6</td>\n",
       "    </tr>\n",
       "    <tr>\n",
       "      <th>2</th>\n",
       "      <td>103</td>\n",
       "      <td>Marketing</td>\n",
       "      <td>4.9</td>\n",
       "    </tr>\n",
       "  </tbody>\n",
       "</table>\n",
       "</div>"
      ],
      "text/plain": [
       "   Employee_ID Department  Performance_Rating\n",
       "7          108    Finance                 4.3\n",
       "8          109         HR                 4.9\n",
       "9          110         IT                 4.6\n",
       "2          103  Marketing                 4.9"
      ]
     },
     "execution_count": 9,
     "metadata": {},
     "output_type": "execute_result"
    }
   ],
   "source": [
    "\n",
    "\n",
    "# Identify top performer in each department\n",
    "top_performer_dept = df.loc[df.groupby('Department')['Performance_Rating'].idxmax()]\n",
    "\n",
    "# Display the result\n",
    "print(\"\\nTop performer in each department:\")\n",
    "top_performer_dept[['Employee_ID', 'Department', 'Performance_Rating']]\n",
    "\n"
   ]
  },
  {
   "cell_type": "markdown",
   "metadata": {},
   "source": [
    "### 3. Calculate Age Range Statistics by Department:\n",
    "- Group the data by Department.\n",
    "- Calculate the minimum, maximum, and average Age for each department."
   ]
  },
  {
   "cell_type": "code",
   "execution_count": 18,
   "metadata": {},
   "outputs": [
    {
     "name": "stdout",
     "output_type": "stream",
     "text": [
      "\n",
      "Age range statistics by department:\n"
     ]
    },
    {
     "data": {
      "text/html": [
       "<div>\n",
       "<style scoped>\n",
       "    .dataframe tbody tr th:only-of-type {\n",
       "        vertical-align: middle;\n",
       "    }\n",
       "\n",
       "    .dataframe tbody tr th {\n",
       "        vertical-align: top;\n",
       "    }\n",
       "\n",
       "    .dataframe thead th {\n",
       "        text-align: right;\n",
       "    }\n",
       "</style>\n",
       "<table border=\"1\" class=\"dataframe\">\n",
       "  <thead>\n",
       "    <tr style=\"text-align: right;\">\n",
       "      <th></th>\n",
       "      <th>min</th>\n",
       "      <th>max</th>\n",
       "      <th>mean</th>\n",
       "    </tr>\n",
       "    <tr>\n",
       "      <th>Department</th>\n",
       "      <th></th>\n",
       "      <th></th>\n",
       "      <th></th>\n",
       "    </tr>\n",
       "  </thead>\n",
       "  <tbody>\n",
       "    <tr>\n",
       "      <th>Finance</th>\n",
       "      <td>39</td>\n",
       "      <td>41</td>\n",
       "      <td>40</td>\n",
       "    </tr>\n",
       "    <tr>\n",
       "      <th>HR</th>\n",
       "      <td>29</td>\n",
       "      <td>45</td>\n",
       "      <td>36</td>\n",
       "    </tr>\n",
       "    <tr>\n",
       "      <th>IT</th>\n",
       "      <td>28</td>\n",
       "      <td>36</td>\n",
       "      <td>32</td>\n",
       "    </tr>\n",
       "    <tr>\n",
       "      <th>Marketing</th>\n",
       "      <td>37</td>\n",
       "      <td>42</td>\n",
       "      <td>39</td>\n",
       "    </tr>\n",
       "  </tbody>\n",
       "</table>\n",
       "</div>"
      ],
      "text/plain": [
       "            min  max  mean\n",
       "Department                \n",
       "Finance      39   41    40\n",
       "HR           29   45    36\n",
       "IT           28   36    32\n",
       "Marketing    37   42    39"
      ]
     },
     "execution_count": 18,
     "metadata": {},
     "output_type": "execute_result"
    }
   ],
   "source": [
    "# Calculate age range statistics by department\n",
    "age_stats_dept = df.groupby('Department')['Age'].agg(['min', 'max', 'mean'])\n",
    "\n",
    "# Display the result\n",
    "print(\"\\nAge range statistics by department:\")\n",
    "# change type of mean to be integer\n",
    "import numpy as np\n",
    "age_stats_dept = age_stats_dept.astype(dict(mean=np.int32))\n",
    "age_stats_dept"
   ]
  },
  {
   "cell_type": "markdown",
   "metadata": {},
   "source": [
    "### 4. Identify Employees with Below Average Performance Rating:\n",
    "- Calculate the overall average Performance_Rating across all employees.\n",
    "- Identify employees whose Performance_Rating is below the overall average.\n",
    "- Display the Employee_ID, Performance_Rating, and Department of these employees."
   ]
  },
  {
   "cell_type": "code",
   "execution_count": 20,
   "metadata": {},
   "outputs": [
    {
     "name": "stdout",
     "output_type": "stream",
     "text": [
      "\n",
      "Employees with below average performance rating:\n"
     ]
    },
    {
     "data": {
      "text/html": [
       "<div>\n",
       "<style scoped>\n",
       "    .dataframe tbody tr th:only-of-type {\n",
       "        vertical-align: middle;\n",
       "    }\n",
       "\n",
       "    .dataframe tbody tr th {\n",
       "        vertical-align: top;\n",
       "    }\n",
       "\n",
       "    .dataframe thead th {\n",
       "        text-align: right;\n",
       "    }\n",
       "</style>\n",
       "<table border=\"1\" class=\"dataframe\">\n",
       "  <thead>\n",
       "    <tr style=\"text-align: right;\">\n",
       "      <th></th>\n",
       "      <th>Employee_ID</th>\n",
       "      <th>Performance_Rating</th>\n",
       "      <th>Department</th>\n",
       "    </tr>\n",
       "  </thead>\n",
       "  <tbody>\n",
       "    <tr>\n",
       "      <th>1</th>\n",
       "      <td>102</td>\n",
       "      <td>3.8</td>\n",
       "      <td>IT</td>\n",
       "    </tr>\n",
       "    <tr>\n",
       "      <th>3</th>\n",
       "      <td>104</td>\n",
       "      <td>4.2</td>\n",
       "      <td>Finance</td>\n",
       "    </tr>\n",
       "    <tr>\n",
       "      <th>5</th>\n",
       "      <td>106</td>\n",
       "      <td>4.0</td>\n",
       "      <td>IT</td>\n",
       "    </tr>\n",
       "    <tr>\n",
       "      <th>7</th>\n",
       "      <td>108</td>\n",
       "      <td>4.3</td>\n",
       "      <td>Finance</td>\n",
       "    </tr>\n",
       "  </tbody>\n",
       "</table>\n",
       "</div>"
      ],
      "text/plain": [
       "   Employee_ID  Performance_Rating Department\n",
       "1          102                 3.8         IT\n",
       "3          104                 4.2    Finance\n",
       "5          106                 4.0         IT\n",
       "7          108                 4.3    Finance"
      ]
     },
     "execution_count": 20,
     "metadata": {},
     "output_type": "execute_result"
    }
   ],
   "source": [
    "# Calculate overall average performance rating\n",
    "overall_avg_rating = df['Performance_Rating'].mean()\n",
    "\n",
    "# Identify employees with below average performance rating\n",
    "below_avg_rating_employees = df[df['Performance_Rating'] < overall_avg_rating]\n",
    "\n",
    "# Display the result\n",
    "print(\"\\nEmployees with below average performance rating:\")\n",
    "below_avg_rating_employees[['Employee_ID', 'Performance_Rating', 'Department']]\n"
   ]
  },
  {
   "cell_type": "markdown",
   "metadata": {},
   "source": [
    "### 5. Calculate Age Group Distribution by Gender:\n",
    "- Create age groups for employees (e.g., 20-29, 30-39, 40-49, etc.).\n",
    "- Group the data by Gender and age groups.\n",
    "- Calculate the count of employees in each gender-age group."
   ]
  },
  {
   "cell_type": "code",
   "execution_count": 25,
   "metadata": {},
   "outputs": [
    {
     "name": "stdout",
     "output_type": "stream",
     "text": [
      "\n",
      "Age group distribution by gender:\n"
     ]
    },
    {
     "data": {
      "text/plain": [
       "Gender  Age_Group\n",
       "Female  20-29        2\n",
       "        30-39        3\n",
       "        40-49        1\n",
       "Male    30-39        2\n",
       "        40-49        2\n",
       "dtype: int64"
      ]
     },
     "execution_count": 25,
     "metadata": {},
     "output_type": "execute_result"
    }
   ],
   "source": [
    "# Define age groups\n",
    "bins = [20, 30, 40, 50, 60]\n",
    "labels = ['20-29', '30-39', '40-49', '50-59']\n",
    "df['Age_Group'] = pd.cut(df['Age'], bins=bins, labels=labels, right=False)\n",
    "\n",
    "# Calculate age group distribution by gender\n",
    "# observed=True is to show only categories that are within the values\n",
    "age_group_distribution = df.groupby(['Gender', 'Age_Group'], observed=True).size()\n",
    "\n",
    "# Display the result\n",
    "print(\"\\nAge group distribution by gender:\")\n",
    "age_group_distribution"
   ]
  }
 ],
 "metadata": {
  "kernelspec": {
   "display_name": "Python 3 (ipykernel)",
   "language": "python",
   "name": "python3"
  },
  "language_info": {
   "codemirror_mode": {
    "name": "ipython",
    "version": 3
   },
   "file_extension": ".py",
   "mimetype": "text/x-python",
   "name": "python",
   "nbconvert_exporter": "python",
   "pygments_lexer": "ipython3",
   "version": "3.13.2"
  }
 },
 "nbformat": 4,
 "nbformat_minor": 4
}
