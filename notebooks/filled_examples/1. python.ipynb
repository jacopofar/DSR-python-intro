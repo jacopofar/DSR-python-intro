{
 "cells": [
  {
   "cell_type": "markdown",
   "metadata": {},
   "source": [
    "# Python Tutorial"
   ]
  },
  {
   "cell_type": "markdown",
   "metadata": {},
   "source": [
    "# 1. What is Python and Why is It So Popular?\n",
    "\n",
    "Python is a high-level, interpreted programming language known for its simplicity and readability. It's popular for a variety of applications, from web development to data science, because of its vast ecosystem of libraries and frameworks, and its supportive community."
   ]
  },
  {
   "cell_type": "code",
   "execution_count": null,
   "metadata": {},
   "outputs": [],
   "source": [
    "# No code example for this section."
   ]
  },
  {
   "cell_type": "markdown",
   "metadata": {},
   "source": [
    "# 2. Checking Python Version\n",
    "\n",
    "You can check your Python version by running a simple command in the terminal or command prompt."
   ]
  },
  {
   "cell_type": "code",
   "execution_count": 1,
   "metadata": {},
   "outputs": [
    {
     "name": "stdout",
     "output_type": "stream",
     "text": [
      "Python 3.13.2\n"
     ]
    }
   ],
   "source": [
    "!python --version"
   ]
  },
  {
   "cell_type": "code",
   "execution_count": 9,
   "metadata": {},
   "outputs": [
    {
     "name": "stdout",
     "output_type": "stream",
     "text": [
      "Python version 3.13.2 (main, Feb  4 2025, 00:00:00) [GCC 14.2.1 20250110 (Red Hat 14.2.1-7)]\n",
      "Access version from Python itself: major:  3 minor:  13\n"
     ]
    }
   ],
   "source": [
    "import sys\n",
    "print(\"Python version\", sys.version)\n",
    "print(\"Access version from Python itself: major: \", sys.version_info.major, \"minor: \", sys.version_info.minor)"
   ]
  },
  {
   "cell_type": "markdown",
   "metadata": {},
   "source": [
    "# 3. Conda Environments\n",
    "\n",
    "Conda environments allow you to manage different project dependencies separately, avoiding conflicts between them."
   ]
  },
  {
   "cell_type": "code",
   "execution_count": null,
   "metadata": {},
   "outputs": [],
   "source": [
    "# To create a conda environment named 'myenv'\n",
    "# !conda create --name myenv python=3.8\n",
    "# To activate this environment\n",
    "# !conda activate myenv"
   ]
  },
  {
   "cell_type": "markdown",
   "metadata": {},
   "source": [
    "# 4. Installing Packages from the Requirements File\n",
    "\n",
    "The requirements file is typically named `requirements.txt` and lists all packages necessary for the project."
   ]
  },
  {
   "cell_type": "code",
   "execution_count": null,
   "metadata": {},
   "outputs": [],
   "source": [
    "# To install packages from requirements.txt\n",
    "# !pip install -r requirements.txt"
   ]
  },
  {
   "cell_type": "markdown",
   "metadata": {},
   "source": [
    "# 5. Different Data Types in Python\n",
    "\n",
    "Python supports various data types like integers, floats, and strings. Here, we'll focus on floats, integers, and categorical types."
   ]
  },
  {
   "cell_type": "code",
   "execution_count": 10,
   "metadata": {},
   "outputs": [
    {
     "name": "stdout",
     "output_type": "stream",
     "text": [
      "<class 'int'>\n",
      "<class 'float'>\n",
      "<class 'str'>\n"
     ]
    }
   ],
   "source": [
    "integer_example = 5\n",
    "float_example = 5.0\n",
    "categorical_example = 'Category1'\n",
    "# Display the types\n",
    "print(type(integer_example))\n",
    "print(type(float_example))\n",
    "print(type(categorical_example))"
   ]
  },
  {
   "cell_type": "markdown",
   "metadata": {},
   "source": [
    "# 6. Mathematical Operations in Python\n",
    "\n",
    "Python supports a variety of mathematical operations, from basic arithmetic to complex mathematical functions."
   ]
  },
  {
   "cell_type": "code",
   "execution_count": 13,
   "metadata": {},
   "outputs": [
    {
     "name": "stdout",
     "output_type": "stream",
     "text": [
      "7\n",
      "3\n",
      "10\n",
      "2.5\n",
      "2\n",
      "1\n",
      "25\n"
     ]
    }
   ],
   "source": [
    "# Examples of mathematical operations\n",
    "print(5 + 2)  # Addition\n",
    "print(5 - 2)  # Subtraction\n",
    "print(5 * 2)  # Multiplication\n",
    "print(5 / 2)  # Division\n",
    "print(5 // 2)  # Division, truncate the result\n",
    "print(5 % 2)  # Modulo\n",
    "print(5 ** 2) # Exponentiation"
   ]
  },
  {
   "cell_type": "markdown",
   "metadata": {},
   "source": [
    "# 7. Booleans\n",
    "\n",
    "Booleans represent one of two values: `True` or `False`. Certain values are automatically considered truthy or falsy in Python."
   ]
  },
  {
   "cell_type": "code",
   "execution_count": null,
   "metadata": {},
   "outputs": [],
   "source": [
    "# Examples of booleans\n",
    "true_example = True\n",
    "false_example = False\n",
    "print(true_example == 1)  # True is considered as 1\n",
    "print(false_example == 0) # False is considered as 0"
   ]
  },
  {
   "cell_type": "markdown",
   "metadata": {},
   "source": [
    "# 8. Strings\n",
    "\n",
    "Strings in Python are used to record textual information. Python has several functions and methods for manipulating strings."
   ]
  },
  {
   "cell_type": "code",
   "execution_count": null,
   "metadata": {},
   "outputs": [],
   "source": [
    "# String examples\n",
    "hello_world = 'Hello' + ' ' + 'World'\n",
    "line_break = 'Hello\\nWorld'\n",
    "f_string = f'{5 * 10} is fifty'\n",
    "# Display the strings\n",
    "print(hello_world)\n",
    "print(line_break)\n",
    "print(f_string)"
   ]
  },
  {
   "cell_type": "markdown",
   "metadata": {},
   "source": [
    "# 9. String Stripping and Substring Removal\n",
    "\n",
    "Python provides methods to trim whitespace from strings and remove substrings."
   ]
  },
  {
   "cell_type": "code",
   "execution_count": null,
   "metadata": {},
   "outputs": [],
   "source": [
    "# String stripping example\n",
    "example_string = '   Hello World   '\n",
    "print(example_string.strip())  # Remove leading and trailing whitespace\n",
    "# Substring removal\n",
    "print(example_string.replace('World', ''))"
   ]
  },
  {
   "cell_type": "markdown",
   "metadata": {},
   "source": [
    "# 10. Comparisons in Python\n",
    "\n",
    "Python uses comparison operators to compare values and objects."
   ]
  },
  {
   "cell_type": "code",
   "execution_count": 14,
   "metadata": {},
   "outputs": [
    {
     "name": "stdout",
     "output_type": "stream",
     "text": [
      "True\n",
      "True\n",
      "True\n",
      "True\n",
      "False\n"
     ]
    },
    {
     "name": "stderr",
     "output_type": "stream",
     "text": [
      "<>:6: SyntaxWarning: \"is not\" with 'int' literal. Did you mean \"!=\"?\n",
      "<>:7: SyntaxWarning: \"is\" with 'int' literal. Did you mean \"==\"?\n",
      "<>:6: SyntaxWarning: \"is not\" with 'int' literal. Did you mean \"!=\"?\n",
      "<>:7: SyntaxWarning: \"is\" with 'int' literal. Did you mean \"==\"?\n",
      "/tmp/ipykernel_136356/301521777.py:6: SyntaxWarning: \"is not\" with 'int' literal. Did you mean \"!=\"?\n",
      "  print(3 is not None) # True, preferred to 3 != None\n",
      "/tmp/ipykernel_136356/301521777.py:7: SyntaxWarning: \"is\" with 'int' literal. Did you mean \"==\"?\n",
      "  print(3 is 3.0) # False (and something you usually avoid) because this is checking that they are the very same object\n"
     ]
    }
   ],
   "source": [
    "# Comparison examples\n",
    "print(5 == 5)  # True, because the values are equal\n",
    "print(5 == 5.0)  # True, because the values are equal, even though the types are different\n",
    "print([] == [])  # True, because the lists have the same content\n",
    "\n",
    "# these will cause warnings:\n",
    "print(3 is not None) # True, preferred to 3 != None\n",
    "print(3 is 3.0) # False (and something you usually avoid) because this is checking that they are the very same object"
   ]
  },
  {
   "cell_type": "markdown",
   "metadata": {},
   "source": [
    "# 11. Logical Operators\n",
    "\n",
    "Logical operators (`and`, `or`, `not`) are used to combine conditional statements in Python."
   ]
  },
  {
   "cell_type": "code",
   "execution_count": null,
   "metadata": {},
   "outputs": [],
   "source": [
    "# Logical operator examples\n",
    "print(True and False)  # False\n",
    "print(True or False)   # True\n",
    "print(not True)        # False"
   ]
  },
  {
   "cell_type": "markdown",
   "metadata": {},
   "source": [
    "# 12. Conditionals\n",
    "\n",
    "Conditional statements, including `if`, `elif`, and `else`, control the flow of Python programs based on conditions."
   ]
  },
  {
   "cell_type": "code",
   "execution_count": null,
   "metadata": {},
   "outputs": [],
   "source": [
    "# Conditional statement examples\n",
    "if 5 > 2:\n",
    "    print('5 is greater than 2')\n",
    "elif 5 == 2:\n",
    "    print('5 is equal to 2')\n",
    "else:\n",
    "    print('5 is less than 2')"
   ]
  },
  {
   "cell_type": "markdown",
   "metadata": {},
   "source": [
    "# 13. Python Lists\n",
    "\n",
    "Lists in Python are ordered collections of items which can be of different types."
   ]
  },
  {
   "cell_type": "code",
   "execution_count": null,
   "metadata": {},
   "outputs": [],
   "source": [
    "# List examples\n",
    "my_list = [1, 'Hello', 3.14, True]\n",
    "print(my_list)"
   ]
  },
  {
   "cell_type": "markdown",
   "metadata": {},
   "source": [
    "# 14. Loops\n",
    "\n",
    "Loops in Python are used to iterate over a sequence (such as a list, tuple, dictionary, or set) or other iterable objects."
   ]
  },
  {
   "cell_type": "code",
   "execution_count": null,
   "metadata": {},
   "outputs": [],
   "source": [
    "# For loop example\n",
    "for i in range(5):\n",
    "    print(i)\n",
    "# While loop example\n",
    "count = 0\n",
    "while count < 5:\n",
    "    print(count)\n",
    "    count += 1"
   ]
  },
  {
   "cell_type": "markdown",
   "metadata": {},
   "source": [
    "# 15. List Range Command\n",
    "\n",
    "The `range()` function in Python is used to generate a sequence of numbers."
   ]
  },
  {
   "cell_type": "code",
   "execution_count": null,
   "metadata": {},
   "outputs": [],
   "source": [
    "# Using range with a for loop\n",
    "for i in range(0, 10, 2):  # Start, stop, step\n",
    "    print(i)"
   ]
  },
  {
   "cell_type": "markdown",
   "metadata": {},
   "source": [
    "# 16. Dictionaries and Tuples\n",
    "\n",
    "Dictionaries are collections of key-value pairs. Tuples are ordered and immutable collections of items."
   ]
  },
  {
   "cell_type": "code",
   "execution_count": null,
   "metadata": {},
   "outputs": [],
   "source": [
    "# Dictionary example\n",
    "my_dict = {'name': 'John', 'age': 30}\n",
    "print(my_dict)\n",
    "# Tuple example\n",
    "my_tuple = (1, 2, 3)\n",
    "print(my_tuple)"
   ]
  }
 ],
 "metadata": {
  "kernelspec": {
   "display_name": "Python 3 (ipykernel)",
   "language": "python",
   "name": "python3"
  },
  "language_info": {
   "codemirror_mode": {
    "name": "ipython",
    "version": 3
   },
   "file_extension": ".py",
   "mimetype": "text/x-python",
   "name": "python",
   "nbconvert_exporter": "python",
   "pygments_lexer": "ipython3",
   "version": "3.13.2"
  }
 },
 "nbformat": 4,
 "nbformat_minor": 4
}
