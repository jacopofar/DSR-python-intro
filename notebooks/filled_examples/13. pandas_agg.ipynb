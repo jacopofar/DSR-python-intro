{
 "cells": [
  {
   "cell_type": "markdown",
   "id": "21640ae8",
   "metadata": {},
   "source": [
    "# Pandas Aggregation Tutorial\n",
    "\n",
    "In this tutorial, we will cover various aspects of data aggregation in Pandas library of Python. We will go through the following topics:\n",
    "\n",
    "1. Creating a Sample Dataset\n",
    "2. Mean, Median, Max, Sum\n",
    "3. Conditional Selection of Columns\n",
    "4. Getting the Number of Unique Values\n",
    "5. Boolean Masks for Selection\n",
    "6. Groupby Commands\n",
    "\n",
    "Let's get started!\n"
   ]
  },
  {
   "cell_type": "markdown",
   "id": "f4b98f01",
   "metadata": {},
   "source": [
    "## 1. Creating a Sample Dataset\n",
    "\n",
    "First, let's create a sample dataset that we'll use throughout this tutorial.\n",
    "We'll create a DataFrame with columns `Name`, `Age`, `Salary`, and `Department`.\n",
    "Then, we'll display the dataset."
   ]
  },
  {
   "cell_type": "code",
   "execution_count": 1,
   "id": "bb206f2e",
   "metadata": {},
   "outputs": [
    {
     "data": {
      "text/html": [
       "<div>\n",
       "<style scoped>\n",
       "    .dataframe tbody tr th:only-of-type {\n",
       "        vertical-align: middle;\n",
       "    }\n",
       "\n",
       "    .dataframe tbody tr th {\n",
       "        vertical-align: top;\n",
       "    }\n",
       "\n",
       "    .dataframe thead th {\n",
       "        text-align: right;\n",
       "    }\n",
       "</style>\n",
       "<table border=\"1\" class=\"dataframe\">\n",
       "  <thead>\n",
       "    <tr style=\"text-align: right;\">\n",
       "      <th></th>\n",
       "      <th>Name</th>\n",
       "      <th>Age</th>\n",
       "      <th>Salary</th>\n",
       "      <th>Department</th>\n",
       "    </tr>\n",
       "  </thead>\n",
       "  <tbody>\n",
       "    <tr>\n",
       "      <th>0</th>\n",
       "      <td>Alice</td>\n",
       "      <td>25</td>\n",
       "      <td>50000</td>\n",
       "      <td>HR</td>\n",
       "    </tr>\n",
       "    <tr>\n",
       "      <th>1</th>\n",
       "      <td>Bob</td>\n",
       "      <td>30</td>\n",
       "      <td>60000</td>\n",
       "      <td>Finance</td>\n",
       "    </tr>\n",
       "    <tr>\n",
       "      <th>2</th>\n",
       "      <td>Charlie</td>\n",
       "      <td>35</td>\n",
       "      <td>70000</td>\n",
       "      <td>IT</td>\n",
       "    </tr>\n",
       "    <tr>\n",
       "      <th>3</th>\n",
       "      <td>Alice</td>\n",
       "      <td>25</td>\n",
       "      <td>55000</td>\n",
       "      <td>HR</td>\n",
       "    </tr>\n",
       "    <tr>\n",
       "      <th>4</th>\n",
       "      <td>Bob</td>\n",
       "      <td>30</td>\n",
       "      <td>65000</td>\n",
       "      <td>Finance</td>\n",
       "    </tr>\n",
       "    <tr>\n",
       "      <th>5</th>\n",
       "      <td>Charlie</td>\n",
       "      <td>35</td>\n",
       "      <td>75000</td>\n",
       "      <td>IT</td>\n",
       "    </tr>\n",
       "  </tbody>\n",
       "</table>\n",
       "</div>"
      ],
      "text/plain": [
       "      Name  Age  Salary Department\n",
       "0    Alice   25   50000         HR\n",
       "1      Bob   30   60000    Finance\n",
       "2  Charlie   35   70000         IT\n",
       "3    Alice   25   55000         HR\n",
       "4      Bob   30   65000    Finance\n",
       "5  Charlie   35   75000         IT"
      ]
     },
     "execution_count": 1,
     "metadata": {},
     "output_type": "execute_result"
    }
   ],
   "source": [
    "import pandas as pd\n",
    "# Creating the sample dataset\n",
    "data = {\n",
    "    'Name': ['Alice', 'Bob', 'Charlie', 'Alice', 'Bob', 'Charlie'],\n",
    "    'Age': [25, 30, 35, 25, 30, 35],\n",
    "    'Salary': [50000, 60000, 70000, 55000, 65000, 75000],\n",
    "    'Department': ['HR', 'Finance', 'IT', 'HR', 'Finance', 'IT']\n",
    "}\n",
    "\n",
    "# Creating DataFrame\n",
    "df = pd.DataFrame(data)\n",
    "\n",
    "# Displaying the dataset\n",
    "df"
   ]
  },
  {
   "cell_type": "markdown",
   "id": "3e9ea4f5",
   "metadata": {},
   "source": [
    "## 2. Mean, Median, Max, Sum\n",
    "\n",
    "Let's calculate the mean, median, max, and sum of the `Salary` column."
   ]
  },
  {
   "cell_type": "code",
   "execution_count": 2,
   "id": "49635650",
   "metadata": {},
   "outputs": [
    {
     "data": {
      "text/plain": [
       "(np.float64(62500.0), np.float64(30.0), np.int64(75000), np.int64(375000))"
      ]
     },
     "execution_count": 2,
     "metadata": {},
     "output_type": "execute_result"
    }
   ],
   "source": [
    "# Calculating mean, median, max, and sum of Salary column\n",
    "mean_salary = df['Salary'].mean()\n",
    "median_age = df['Age'].median()\n",
    "max_salary = df['Salary'].max()\n",
    "sum_salaries = df['Salary'].sum()\n",
    "\n",
    "# Displaying the results\n",
    "mean_salary, median_age, max_salary, sum_salaries"
   ]
  },
  {
   "cell_type": "markdown",
   "id": "21ea2820",
   "metadata": {},
   "source": [
    "## 3. Conditional Selection of Columns\n",
    "\n",
    "We can select rows based on certain conditions. Let's select people with salary greater than 60000."
   ]
  },
  {
   "cell_type": "code",
   "execution_count": 4,
   "id": "37c3b364",
   "metadata": {},
   "outputs": [
    {
     "data": {
      "text/html": [
       "<div>\n",
       "<style scoped>\n",
       "    .dataframe tbody tr th:only-of-type {\n",
       "        vertical-align: middle;\n",
       "    }\n",
       "\n",
       "    .dataframe tbody tr th {\n",
       "        vertical-align: top;\n",
       "    }\n",
       "\n",
       "    .dataframe thead th {\n",
       "        text-align: right;\n",
       "    }\n",
       "</style>\n",
       "<table border=\"1\" class=\"dataframe\">\n",
       "  <thead>\n",
       "    <tr style=\"text-align: right;\">\n",
       "      <th></th>\n",
       "      <th>Name</th>\n",
       "      <th>Age</th>\n",
       "      <th>Salary</th>\n",
       "      <th>Department</th>\n",
       "    </tr>\n",
       "  </thead>\n",
       "  <tbody>\n",
       "    <tr>\n",
       "      <th>2</th>\n",
       "      <td>Charlie</td>\n",
       "      <td>35</td>\n",
       "      <td>70000</td>\n",
       "      <td>IT</td>\n",
       "    </tr>\n",
       "    <tr>\n",
       "      <th>4</th>\n",
       "      <td>Bob</td>\n",
       "      <td>30</td>\n",
       "      <td>65000</td>\n",
       "      <td>Finance</td>\n",
       "    </tr>\n",
       "    <tr>\n",
       "      <th>5</th>\n",
       "      <td>Charlie</td>\n",
       "      <td>35</td>\n",
       "      <td>75000</td>\n",
       "      <td>IT</td>\n",
       "    </tr>\n",
       "  </tbody>\n",
       "</table>\n",
       "</div>"
      ],
      "text/plain": [
       "      Name  Age  Salary Department\n",
       "2  Charlie   35   70000         IT\n",
       "4      Bob   30   65000    Finance\n",
       "5  Charlie   35   75000         IT"
      ]
     },
     "execution_count": 4,
     "metadata": {},
     "output_type": "execute_result"
    }
   ],
   "source": [
    "# Selecting people with salary greater than 60000\n",
    "high_salary_df = df[df['Salary'] > 60000]\n",
    "\n",
    "# Displaying the resulting DataFrame\n",
    "high_salary_df\n",
    "\n"
   ]
  },
  {
   "cell_type": "markdown",
   "id": "c5b73270",
   "metadata": {},
   "source": [
    "## 4. Getting the Number of Unique Values\n",
    "\n",
    "We can get the number of unique values in a column. Let's find the number of unique names."
   ]
  },
  {
   "cell_type": "code",
   "execution_count": 5,
   "id": "c0fef6af",
   "metadata": {},
   "outputs": [
    {
     "data": {
      "text/plain": [
       "3"
      ]
     },
     "execution_count": 5,
     "metadata": {},
     "output_type": "execute_result"
    }
   ],
   "source": [
    "# Getting the number of unique names\n",
    "unique_names_count = df['Name'].nunique()\n",
    "\n",
    "# Displaying the result\n",
    "unique_names_count\n"
   ]
  },
  {
   "cell_type": "markdown",
   "id": "8fe64d8d",
   "metadata": {},
   "source": [
    "## 5. Boolean Masks for Selection\n",
    "\n",
    "We can use boolean masks to select rows based on conditions. Let's select people with age greater than 30."
   ]
  },
  {
   "cell_type": "code",
   "execution_count": 6,
   "id": "8c436bf1",
   "metadata": {},
   "outputs": [
    {
     "data": {
      "text/html": [
       "<div>\n",
       "<style scoped>\n",
       "    .dataframe tbody tr th:only-of-type {\n",
       "        vertical-align: middle;\n",
       "    }\n",
       "\n",
       "    .dataframe tbody tr th {\n",
       "        vertical-align: top;\n",
       "    }\n",
       "\n",
       "    .dataframe thead th {\n",
       "        text-align: right;\n",
       "    }\n",
       "</style>\n",
       "<table border=\"1\" class=\"dataframe\">\n",
       "  <thead>\n",
       "    <tr style=\"text-align: right;\">\n",
       "      <th></th>\n",
       "      <th>Name</th>\n",
       "      <th>Age</th>\n",
       "      <th>Salary</th>\n",
       "      <th>Department</th>\n",
       "    </tr>\n",
       "  </thead>\n",
       "  <tbody>\n",
       "    <tr>\n",
       "      <th>2</th>\n",
       "      <td>Charlie</td>\n",
       "      <td>35</td>\n",
       "      <td>70000</td>\n",
       "      <td>IT</td>\n",
       "    </tr>\n",
       "    <tr>\n",
       "      <th>5</th>\n",
       "      <td>Charlie</td>\n",
       "      <td>35</td>\n",
       "      <td>75000</td>\n",
       "      <td>IT</td>\n",
       "    </tr>\n",
       "  </tbody>\n",
       "</table>\n",
       "</div>"
      ],
      "text/plain": [
       "      Name  Age  Salary Department\n",
       "2  Charlie   35   70000         IT\n",
       "5  Charlie   35   75000         IT"
      ]
     },
     "execution_count": 6,
     "metadata": {},
     "output_type": "execute_result"
    }
   ],
   "source": [
    "# Selecting people with age greater than 30\n",
    "mask = df['Age'] > 30\n",
    "older_people_df = df[mask]\n",
    "\n",
    "# Displaying the resulting DataFrame\n",
    "older_people_df"
   ]
  },
  {
   "cell_type": "markdown",
   "id": "e9bd7b1f",
   "metadata": {},
   "source": [
    "## 6. Groupby Commands\n",
    "\n",
    "We can group data based on certain criteria using the `groupby` function. Let's group by `Department` and calculate the mean salary for each department."
   ]
  },
  {
   "cell_type": "code",
   "execution_count": 7,
   "id": "0e49cb2f",
   "metadata": {},
   "outputs": [
    {
     "data": {
      "text/plain": [
       "Department\n",
       "Finance    62500.0\n",
       "HR         52500.0\n",
       "IT         72500.0\n",
       "Name: Salary, dtype: float64"
      ]
     },
     "execution_count": 7,
     "metadata": {},
     "output_type": "execute_result"
    }
   ],
   "source": [
    "# Grouping by Department and calculating mean salary\n",
    "department_salary_mean = df.groupby('Department')['Salary'].mean()\n",
    "\n",
    "# Displaying the result\n",
    "department_salary_mean"
   ]
  }
 ],
 "metadata": {
  "kernelspec": {
   "display_name": "Python 3 (ipykernel)",
   "language": "python",
   "name": "python3"
  },
  "language_info": {
   "codemirror_mode": {
    "name": "ipython",
    "version": 3
   },
   "file_extension": ".py",
   "mimetype": "text/x-python",
   "name": "python",
   "nbconvert_exporter": "python",
   "pygments_lexer": "ipython3",
   "version": "3.13.2"
  }
 },
 "nbformat": 4,
 "nbformat_minor": 5
}
