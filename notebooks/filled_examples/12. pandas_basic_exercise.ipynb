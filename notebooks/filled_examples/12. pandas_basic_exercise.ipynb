{
 "cells": [
  {
   "cell_type": "markdown",
   "metadata": {},
   "source": [
    "# Exercise\n",
    "\n",
    "In the following we are conducting several exercises about basic pandas analysis.\n",
    "\n",
    "In this exercise, you will work with a fictional dataset containing sales data for a retail store. The dataset is provided in CSV format and consists of the following columns:\n",
    "\n",
    "1. Order_ID: Unique identifier for each order.\n",
    "2. Product: Name of the product sold.\n",
    "3. Category: Category of the product (e.g., Electronics, Clothing, Furniture).\n",
    "4. Price: Price of the product.\n",
    "5. Quantity: Quantity of the product sold.\n",
    "5. Order_Date: Date and time of the order.\n",
    "Your task is to use pandas to perform various data analysis tasks and derive insights from the dataset."
   ]
  },
  {
   "cell_type": "code",
   "execution_count": 1,
   "metadata": {},
   "outputs": [],
   "source": [
    "import pandas as pd\n",
    "\n",
    "# Create a fictional dataset\n",
    "data = {\n",
    "    'Employee_ID': [101, 102, 103, 104, 105],\n",
    "    'Name': ['John', 'Alice', 'Bob', 'Emily', 'David'],\n",
    "    'Department': ['HR', 'IT', 'Marketing', 'Finance', 'HR'],\n",
    "    'Position': ['Manager', 'Developer', 'Marketing Specialist', 'Accountant', 'HR Assistant'],\n",
    "    'Salary': [6000, 5000, 4500, 5500, 4000],\n",
    "    'Hire_Date': ['2020-01-15', '2019-05-20', '2020-03-10', '2018-11-25', '2021-02-05']\n",
    "}\n",
    "\n",
    "# Convert the dictionary to a DataFrame\n",
    "df = pd.DataFrame(data)\n"
   ]
  },
  {
   "cell_type": "markdown",
   "metadata": {},
   "source": [
    "### 2. Display Basic Information:\n",
    "- Display the first 5 rows of the DataFrame.\n",
    "- Display the basic information about the DataFrame (number of rows, columns, data types, memory usage)."
   ]
  },
  {
   "cell_type": "code",
   "execution_count": 4,
   "metadata": {},
   "outputs": [
    {
     "name": "stdout",
     "output_type": "stream",
     "text": [
      "First 5 rows of the DataFrame:\n",
      "\n",
      "Basic information about the DataFrame:\n",
      "<class 'pandas.core.frame.DataFrame'>\n",
      "RangeIndex: 5 entries, 0 to 4\n",
      "Data columns (total 6 columns):\n",
      " #   Column       Non-Null Count  Dtype \n",
      "---  ------       --------------  ----- \n",
      " 0   Employee_ID  5 non-null      int64 \n",
      " 1   Name         5 non-null      object\n",
      " 2   Department   5 non-null      object\n",
      " 3   Position     5 non-null      object\n",
      " 4   Salary       5 non-null      int64 \n",
      " 5   Hire_Date    5 non-null      object\n",
      "dtypes: int64(2), object(4)\n",
      "memory usage: 372.0+ bytes\n",
      "None\n"
     ]
    }
   ],
   "source": [
    "# Display the first 5 rows of the DataFrame\n",
    "print(\"First 5 rows of the DataFrame:\")\n",
    "# NOTE: 5 is the default value, so df.head() also works in this case\n",
    "df.head(5)\n",
    "\n",
    "# Display basic information about the DataFrame\n",
    "print(\"\\nBasic information about the DataFrame:\")\n",
    "print(df.info())"
   ]
  },
  {
   "cell_type": "markdown",
   "metadata": {},
   "source": [
    "### 2.Summary Statistics:\n",
    "- Calculate and display summary statistics for numerical columns (count, mean, min, max, etc.)."
   ]
  },
  {
   "cell_type": "code",
   "execution_count": 5,
   "metadata": {},
   "outputs": [
    {
     "name": "stdout",
     "output_type": "stream",
     "text": [
      "Summary statistics for numerical columns:\n",
      "       Employee_ID       Salary\n",
      "count     5.000000     5.000000\n",
      "mean    103.000000  5000.000000\n",
      "std       1.581139   790.569415\n",
      "min     101.000000  4000.000000\n",
      "25%     102.000000  4500.000000\n",
      "50%     103.000000  5000.000000\n",
      "75%     104.000000  5500.000000\n",
      "max     105.000000  6000.000000\n"
     ]
    }
   ],
   "source": [
    "# Calculate and display summary statistics for numerical columns\n",
    "print(\"Summary statistics for numerical columns:\")\n",
    "print(df.describe())\n"
   ]
  },
  {
   "cell_type": "markdown",
   "metadata": {},
   "source": [
    "3. Data Manipulation:\n",
    "- Convert the Hire_Date column to datetime format.\n",
    "- Add a new column named Years_Worked that represents the number of years each employee has worked in the company (as of the current year)."
   ]
  },
  {
   "cell_type": "code",
   "execution_count": 8,
   "metadata": {},
   "outputs": [
    {
     "name": "stdout",
     "output_type": "stream",
     "text": [
      "Employee_ID              int64\n",
      "Name                    object\n",
      "Department              object\n",
      "Position                object\n",
      "Salary                   int64\n",
      "Hire_Date       datetime64[ns]\n",
      "Years_Worked             int32\n",
      "dtype: object\n",
      "DataFrame with 'Hire_Date' converted and 'Years_Worked' added:\n"
     ]
    },
    {
     "data": {
      "text/html": [
       "<div>\n",
       "<style scoped>\n",
       "    .dataframe tbody tr th:only-of-type {\n",
       "        vertical-align: middle;\n",
       "    }\n",
       "\n",
       "    .dataframe tbody tr th {\n",
       "        vertical-align: top;\n",
       "    }\n",
       "\n",
       "    .dataframe thead th {\n",
       "        text-align: right;\n",
       "    }\n",
       "</style>\n",
       "<table border=\"1\" class=\"dataframe\">\n",
       "  <thead>\n",
       "    <tr style=\"text-align: right;\">\n",
       "      <th></th>\n",
       "      <th>Employee_ID</th>\n",
       "      <th>Name</th>\n",
       "      <th>Department</th>\n",
       "      <th>Position</th>\n",
       "      <th>Salary</th>\n",
       "      <th>Hire_Date</th>\n",
       "      <th>Years_Worked</th>\n",
       "    </tr>\n",
       "  </thead>\n",
       "  <tbody>\n",
       "    <tr>\n",
       "      <th>0</th>\n",
       "      <td>101</td>\n",
       "      <td>John</td>\n",
       "      <td>HR</td>\n",
       "      <td>Manager</td>\n",
       "      <td>6000</td>\n",
       "      <td>2020-01-15</td>\n",
       "      <td>5</td>\n",
       "    </tr>\n",
       "    <tr>\n",
       "      <th>1</th>\n",
       "      <td>102</td>\n",
       "      <td>Alice</td>\n",
       "      <td>IT</td>\n",
       "      <td>Developer</td>\n",
       "      <td>5000</td>\n",
       "      <td>2019-05-20</td>\n",
       "      <td>6</td>\n",
       "    </tr>\n",
       "    <tr>\n",
       "      <th>2</th>\n",
       "      <td>103</td>\n",
       "      <td>Bob</td>\n",
       "      <td>Marketing</td>\n",
       "      <td>Marketing Specialist</td>\n",
       "      <td>4500</td>\n",
       "      <td>2020-03-10</td>\n",
       "      <td>5</td>\n",
       "    </tr>\n",
       "    <tr>\n",
       "      <th>3</th>\n",
       "      <td>104</td>\n",
       "      <td>Emily</td>\n",
       "      <td>Finance</td>\n",
       "      <td>Accountant</td>\n",
       "      <td>5500</td>\n",
       "      <td>2018-11-25</td>\n",
       "      <td>7</td>\n",
       "    </tr>\n",
       "    <tr>\n",
       "      <th>4</th>\n",
       "      <td>105</td>\n",
       "      <td>David</td>\n",
       "      <td>HR</td>\n",
       "      <td>HR Assistant</td>\n",
       "      <td>4000</td>\n",
       "      <td>2021-02-05</td>\n",
       "      <td>4</td>\n",
       "    </tr>\n",
       "  </tbody>\n",
       "</table>\n",
       "</div>"
      ],
      "text/plain": [
       "   Employee_ID   Name Department              Position  Salary  Hire_Date  \\\n",
       "0          101   John         HR               Manager    6000 2020-01-15   \n",
       "1          102  Alice         IT             Developer    5000 2019-05-20   \n",
       "2          103    Bob  Marketing  Marketing Specialist    4500 2020-03-10   \n",
       "3          104  Emily    Finance            Accountant    5500 2018-11-25   \n",
       "4          105  David         HR          HR Assistant    4000 2021-02-05   \n",
       "\n",
       "   Years_Worked  \n",
       "0             5  \n",
       "1             6  \n",
       "2             5  \n",
       "3             7  \n",
       "4             4  "
      ]
     },
     "execution_count": 8,
     "metadata": {},
     "output_type": "execute_result"
    }
   ],
   "source": [
    "# Convert 'Hire_Date' column to datetime format\n",
    "df['Hire_Date'] = pd.to_datetime(df['Hire_Date'])\n",
    "\n",
    "# Add a new column 'Years_Worked'\n",
    "current_year = pd.Timestamp.now().year\n",
    "df['Years_Worked'] = current_year - df['Hire_Date'].dt.year\n",
    "# Display the modified DataFrame\n",
    "# for curiosity, look at the dtypes\n",
    "print(df.dtypes)\n",
    "print(\"DataFrame with 'Hire_Date' converted and 'Years_Worked' added:\")\n",
    "df\n"
   ]
  },
  {
   "cell_type": "markdown",
   "metadata": {},
   "source": [
    "### 4. Data Filtering:\n",
    "- Filter the DataFrame to include only employees who work in the 'HR' department.\n",
    "- Display the filtered DataFrame."
   ]
  },
  {
   "cell_type": "code",
   "execution_count": 11,
   "metadata": {},
   "outputs": [
    {
     "name": "stdout",
     "output_type": "stream",
     "text": [
      "Employees in the 'HR' department:\n"
     ]
    },
    {
     "data": {
      "text/html": [
       "<div>\n",
       "<style scoped>\n",
       "    .dataframe tbody tr th:only-of-type {\n",
       "        vertical-align: middle;\n",
       "    }\n",
       "\n",
       "    .dataframe tbody tr th {\n",
       "        vertical-align: top;\n",
       "    }\n",
       "\n",
       "    .dataframe thead th {\n",
       "        text-align: right;\n",
       "    }\n",
       "</style>\n",
       "<table border=\"1\" class=\"dataframe\">\n",
       "  <thead>\n",
       "    <tr style=\"text-align: right;\">\n",
       "      <th></th>\n",
       "      <th>Employee_ID</th>\n",
       "      <th>Name</th>\n",
       "      <th>Department</th>\n",
       "      <th>Position</th>\n",
       "      <th>Salary</th>\n",
       "      <th>Hire_Date</th>\n",
       "      <th>Years_Worked</th>\n",
       "    </tr>\n",
       "  </thead>\n",
       "  <tbody>\n",
       "    <tr>\n",
       "      <th>0</th>\n",
       "      <td>101</td>\n",
       "      <td>John</td>\n",
       "      <td>HR</td>\n",
       "      <td>Manager</td>\n",
       "      <td>6000</td>\n",
       "      <td>2020-01-15</td>\n",
       "      <td>5</td>\n",
       "    </tr>\n",
       "    <tr>\n",
       "      <th>4</th>\n",
       "      <td>105</td>\n",
       "      <td>David</td>\n",
       "      <td>HR</td>\n",
       "      <td>HR Assistant</td>\n",
       "      <td>4000</td>\n",
       "      <td>2021-02-05</td>\n",
       "      <td>4</td>\n",
       "    </tr>\n",
       "  </tbody>\n",
       "</table>\n",
       "</div>"
      ],
      "text/plain": [
       "   Employee_ID   Name Department      Position  Salary  Hire_Date  \\\n",
       "0          101   John         HR       Manager    6000 2020-01-15   \n",
       "4          105  David         HR  HR Assistant    4000 2021-02-05   \n",
       "\n",
       "   Years_Worked  \n",
       "0             5  \n",
       "4             4  "
      ]
     },
     "execution_count": 11,
     "metadata": {},
     "output_type": "execute_result"
    }
   ],
   "source": [
    "# Filter the DataFrame for employees in the 'HR' department\n",
    "hr_df = df[df['Department'] == 'HR']\n",
    "\n",
    "# Display the filtered DataFrame\n",
    "print(\"Employees in the 'HR' department:\")\n",
    "\n",
    "hr_df\n"
   ]
  }
 ],
 "metadata": {
  "kernelspec": {
   "display_name": "Python 3 (ipykernel)",
   "language": "python",
   "name": "python3"
  },
  "language_info": {
   "codemirror_mode": {
    "name": "ipython",
    "version": 3
   },
   "file_extension": ".py",
   "mimetype": "text/x-python",
   "name": "python",
   "nbconvert_exporter": "python",
   "pygments_lexer": "ipython3",
   "version": "3.13.2"
  }
 },
 "nbformat": 4,
 "nbformat_minor": 4
}
