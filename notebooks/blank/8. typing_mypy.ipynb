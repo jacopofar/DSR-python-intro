{
 "cells": [
  {
   "cell_type": "markdown",
   "metadata": {},
   "source": [
    "## Type hints\n",
    "\n",
    "Introduced in Python 3.6 and gradually improved.\n",
    "\n",
    "Unlike in other languages (Java, C++), they have NO EFFECT on the execution, are used by the developers and the editor to reduce mistakes.\n",
    "\n"
   ]
  },
  {
   "cell_type": "code",
   "execution_count": 9,
   "metadata": {},
   "outputs": [],
   "source": [
    "# note you'd actually use:\n",
    "# import re\n",
    "# print(len(re.findall(r'(?-i:[aeiou])', 'ciao')))\n",
    "\n",
    "def count_vowels(txt: str) -> int:\n",
    "    total: int = 0\n",
    "    for char in txt:\n",
    "        if char in 'aeiouAEIOU':\n",
    "            total += 1\n",
    "    return total\n",
    "            "
   ]
  },
  {
   "cell_type": "code",
   "execution_count": 14,
   "metadata": {},
   "outputs": [
    {
     "name": "stdout",
     "output_type": "stream",
     "text": [
      "2\n",
      "0\n"
     ]
    }
   ],
   "source": [
    "print(count_vowels(\"hello\"))\n",
    "# this works even though the type is wrong\n",
    "# and the comparison gives wrong results\n",
    "print(count_vowels(['hel', 'lo']))"
   ]
  },
  {
   "cell_type": "markdown",
   "metadata": {},
   "source": [
    "This is a notebook and for simplicity we are not going to run mypy or ruff here.\n",
    "\n",
    "It is possible using tools like [nbQA](https://github.com/nbQA-dev/nbQA) but in general notebooks are to show analysis, do experiments or take notes, not to develop.\n",
    "\n",
    "Placing the code above in a python file and invoking mypy on it we get:\n",
    "```bash\n",
    "$ mypy snippets/test_mypy.py \n",
    "snippets/test_mypy.py:11: error: Argument 1 to \"count_vowels\" has incompatible type \"list[str]\"; expected \"str\"  [arg-type]\n",
    "Found 1 error in 1 file (checked 1 source file)\n",
    "\n",
    "```"
   ]
  },
  {
   "cell_type": "markdown",
   "metadata": {},
   "source": [
    "Type checking can be integrated with the IDE (both VSCode and Pycharm have extensions for it, even vim/helix/neovim can do it) to give you warnings **as you type**.\n",
    "\n",
    "Python allows for **incremental typing**, meaning you can add type hints gradually, like you would in a language like Typescript.\n",
    "\n",
    "Mypy has a strict mode (`mypy --strict myfile.py`) which enforces having types on every single function. It's quite a rigid requirement so it's not the default behavior.\n",
    "\n",
    "Due to the dynamic nature of Python you often have to apply **type erasure**:"
   ]
  },
  {
   "cell_type": "code",
   "execution_count": 22,
   "metadata": {},
   "outputs": [
    {
     "name": "stdout",
     "output_type": "stream",
     "text": [
      "4.5216\n",
      "1.44\n"
     ]
    }
   ],
   "source": [
    "class Circle:\n",
    "    def __init__(self, radius: float):\n",
    "        self.type = 'circle'\n",
    "        self.radius = radius\n",
    "\n",
    "class Square:\n",
    "    def __init__(self, side: float):\n",
    "        self.type = 'square'\n",
    "        self.side = side\n",
    "\n",
    "def get_area(s: Square|Circle) -> float:\n",
    "    if s.type == 'circle':\n",
    "        assert isinstance(s, Circle)\n",
    "        return s.radius ** 2 * 3.14\n",
    "    else:\n",
    "        assert isinstance(s, Square)\n",
    "        return s.side ** 2\n",
    "\n",
    "print(get_area(Circle(1.2)))\n",
    "print(get_area(Square(1.2)))\n"
   ]
  },
  {
   "cell_type": "markdown",
   "metadata": {},
   "source": [
    "In this example we add `assert` when we know something about the type that mypy cannot guess. The presence of the assert gives it more details about the code coming after, becaus it know what's the type of `s` in that point.\n",
    "\n",
    "This also works:\n"
   ]
  },
  {
   "cell_type": "code",
   "execution_count": 24,
   "metadata": {},
   "outputs": [],
   "source": [
    "def get_area2(s: Square|Circle) -> float:\n",
    "    if isinstance(s, Circle):\n",
    "        return s.radius ** 2 * 3.14\n",
    "    elif isinstance(s, Square):\n",
    "        return s.side ** 2\n",
    "    else:\n",
    "        raise TypeError(f\"Received object {s} of unknown type {type(s)}\")"
   ]
  },
  {
   "cell_type": "markdown",
   "metadata": {},
   "source": [
    "In this case mypy \"understands\" that the code inside the if can be reached only if `s` has a specific type and is valid.\n",
    "\n",
    "This variation has the added benefit of breaking if in the future is called with a class that we don't know, showing a clear error."
   ]
  }
 ],
 "metadata": {
  "kernelspec": {
   "display_name": "Python 3 (ipykernel)",
   "language": "python",
   "name": "python3"
  },
  "language_info": {
   "codemirror_mode": {
    "name": "ipython",
    "version": 3
   },
   "file_extension": ".py",
   "mimetype": "text/x-python",
   "name": "python",
   "nbconvert_exporter": "python",
   "pygments_lexer": "ipython3",
   "version": "3.13.2"
  }
 },
 "nbformat": 4,
 "nbformat_minor": 4
}
