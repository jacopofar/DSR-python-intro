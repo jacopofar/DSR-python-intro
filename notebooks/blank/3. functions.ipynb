{
 "cells": [
  {
   "cell_type": "markdown",
   "id": "32276f03",
   "metadata": {},
   "source": [
    "# Python Functions Tutorial\n",
    "\n",
    "This notebook covers various aspects of Python functions."
   ]
  },
  {
   "cell_type": "markdown",
   "id": "2ff79790",
   "metadata": {},
   "source": [
    "### Example Dataset\n",
    "\n",
    "Let's start by creating an example dataset of names and scores."
   ]
  },
  {
   "cell_type": "code",
   "execution_count": null,
   "id": "bf2b467a",
   "metadata": {},
   "outputs": [],
   "source": [
    "# Import necessary libraries\n",
    "import random\n",
    "\n",
    "# Example dataset\n",
    "names = [\"Alice\", \"Bob\", \"Charlie\", \"David\", \"Emma\"]\n",
    "scores = [random.randint(60, 100) for _ in range(len(names))]\n",
    "\n",
    "# Display the dataset\n",
    "print(\"Names:\", names)\n",
    "print(\"Scores:\", scores)"
   ]
  },
  {
   "cell_type": "markdown",
   "id": "17fd26ba",
   "metadata": {},
   "source": [
    "### 1. Why are we using functions? What is the benefit?\n",
    "\n",
    "Functions help in organizing code, making it more readable, reusable, and easier to maintain. They allow us to break down complex tasks into smaller, manageable chunks."
   ]
  },
  {
   "cell_type": "markdown",
   "id": "cdde20ca",
   "metadata": {},
   "source": [
    "### 2. Modular Programming\n",
    "\n",
    "Modular programming is a software design technique that emphasizes breaking down programs into independent, interchangeable modules (functions in Python) to promote code reusability and maintainability.\n",
    "\n",
    "In general, create a function whenever you find there's logic that is present multiple times across your project.\n",
    "\n",
    "Once you start having multiple functions, consider collecting them in a separate file and import it, Python uses files as **modules** which are **namespaces**.\n",
    "\n",
    "**Classes** are also a common way to arrange functions (in that case called methods), when they apply to the same data structure"
   ]
  },
  {
   "cell_type": "code",
   "execution_count": null,
   "id": "c5510c98",
   "metadata": {},
   "outputs": [],
   "source": [
    "# Example of modular programming\n",
    "def calculate_average(scores):\n",
    "    \"\"\"\n",
    "    Calculate the average score.\n",
    "    \"\"\"\n",
    "    return sum(scores) / len(scores)\n",
    "\n",
    "average_score = calculate_average(scores)\n",
    "print(\"Average Score:\", average_score)"
   ]
  },
  {
   "cell_type": "markdown",
   "id": "6e98c358",
   "metadata": {},
   "source": [
    "### 3. Difference between Local and Global Scope\n",
    "\n",
    "Local scope refers to variables defined within a function and are only accessible within that function. Global scope refers to variables defined outside of any function and are accessible throughout the code."
   ]
  },
  {
   "cell_type": "code",
   "execution_count": null,
   "id": "4df7a01a-4cbc-43fe-b747-b721f84b4fdb",
   "metadata": {},
   "outputs": [],
   "source": [
    "name = \"john\"\n",
    "\n",
    "def tell_name():\n",
    "    # this \"name\" variable shadows the global one. They are independent!\n",
    "    name = \"arthur\"\n",
    "    print(name)\n",
    "\n",
    "tell_name()\n",
    "print(name)\n",
    "\n",
    "print(\"---\")\n",
    "\n",
    "def tell_name2():\n",
    "    # we say \"name\" here is the same that is used outside.\n",
    "    # This declaration MUST be present before the variable is used, or you have a syntax error\n",
    "    global name\n",
    "    name = \"arthur\"\n",
    "    print(name)\n",
    "    \n",
    "tell_name2()\n",
    "print(name)\n"
   ]
  },
  {
   "cell_type": "markdown",
   "id": "928dc1fa",
   "metadata": {},
   "source": [
    "### 4. Parameters and Positional Parameters\n",
    "\n",
    "Parameters are placeholders for values that are passed into a function. Positional parameters are parameters that are passed by their position in the function call. It's important to ensure the correct order of positional parameters when calling a function, otherwise, the function may not behave as expected."
   ]
  },
  {
   "cell_type": "code",
   "execution_count": null,
   "id": "130c59e5",
   "metadata": {},
   "outputs": [],
   "source": [
    "# Example demonstrating positional parameters\n",
    "def greet(name, message):\n",
    "    \"\"\"\n",
    "    Greets the user with a message.\n",
    "    \"\"\"\n",
    "    print(\"Hello,\", name + \",\", message)\n",
    "\n",
    "# Correct usage\n",
    "greet(\"Alice\", \"how are you?\")\n",
    "# Incorrect usage (wrong order of parameters)\n",
    "greet(\"how are you?\", \"Alice\")\n",
    "\n"
   ]
  },
  {
   "cell_type": "markdown",
   "id": "34f78ba4",
   "metadata": {},
   "source": [
    "### 6. Keyword Parameters\n",
    "\n",
    "Keyword parameters allow passing arguments to a function using their corresponding parameter names, which can make function calls more explicit and readable."
   ]
  },
  {
   "cell_type": "code",
   "execution_count": null,
   "id": "a05e4ddb",
   "metadata": {},
   "outputs": [],
   "source": [
    "def greet(name, message=\"how is it going?\"):\n",
    "    \"\"\"\n",
    "    Greets the user with a message.\n",
    "    \"\"\"\n",
    "    print(\"Hello,\", name + \",\", message)\n",
    "\n",
    "greet(\"Bob\")\n",
    "# both valid, second is more explicit\n",
    "greet(\"Bob\", \"what's up?\")\n",
    "greet(\"Bob\", message=\"what's up?\")\n",
    "\n"
   ]
  },
  {
   "cell_type": "markdown",
   "id": "eee1c74d",
   "metadata": {},
   "source": [
    "### 7. Default Values in Python Functions\n",
    "\n",
    "Default values allow defining parameters with pre-defined values, which are used when the function is called without providing a value for those parameters.\n",
    "\n",
    "**BE CAREFUL**: mutable types can behave in surprising ways"
   ]
  },
  {
   "cell_type": "code",
   "execution_count": null,
   "id": "125b0ebd",
   "metadata": {},
   "outputs": [],
   "source": [
    "def append_to(element, to=[]):\n",
    "    to.append(element)\n",
    "    return to\n",
    "\n",
    "print(append_to(1, to=[]))\n",
    "print(append_to(2, to=[]))\n",
    "      \n",
    "print(append_to(42))\n",
    "print(append_to(43))\n",
    "print(append_to(3, to=[]))\n",
    "print(append_to(4))\n"
   ]
  },
  {
   "cell_type": "markdown",
   "id": "3783488d-a28a-4dbb-88bd-20068cfb4cc4",
   "metadata": {},
   "source": [
    "As a general rule, **never use mutable values as defaults**.\n",
    "\n",
    "Tools like Pycharm or Pyright warn about this automatically.\n",
    "\n",
    "Do this instead:"
   ]
  },
  {
   "cell_type": "code",
   "execution_count": null,
   "id": "c916b05d-bb4f-41ca-acf0-53256c8f94ef",
   "metadata": {},
   "outputs": [],
   "source": [
    "def append_to(element, to=None):\n",
    "    if to is None:\n",
    "        to = []\n",
    "    to.append(element)\n",
    "    return to\n",
    "\n",
    "print(append_to(1, to=[]))\n",
    "print(append_to(2, to=[]))\n",
    "      \n",
    "print(append_to(42))\n",
    "print(append_to(43))\n",
    "print(append_to(3, to=[]))\n",
    "print(append_to(4))\n"
   ]
  }
 ],
 "metadata": {
  "kernelspec": {
   "display_name": "Python 3 (ipykernel)",
   "language": "python",
   "name": "python3"
  },
  "language_info": {
   "codemirror_mode": {
    "name": "ipython",
    "version": 3
   },
   "file_extension": ".py",
   "mimetype": "text/x-python",
   "name": "python",
   "nbconvert_exporter": "python",
   "pygments_lexer": "ipython3",
   "version": "3.13.2"
  }
 },
 "nbformat": 4,
 "nbformat_minor": 5
}
