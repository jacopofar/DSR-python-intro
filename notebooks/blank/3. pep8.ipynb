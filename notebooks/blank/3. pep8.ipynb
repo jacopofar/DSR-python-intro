{
 "cells": [
  {
   "cell_type": "markdown",
   "metadata": {},
   "source": [
    "## Code style\n",
    "\n",
    "> Programs must be written for people to read, and only incidentally for machines to execute - Harold Abelson\n",
    "\n",
    "**Code style matters**\n",
    "\n",
    "Poor code style\n",
    "- looks careless to experienced programmers\n",
    "- makes your (and your colleagues) job more difficult\n",
    "\n",
    "## Whitespace indentation\n",
    "\n",
    "Python uses indentation (ie whitespace). Other languages (such as Java and C++) use `;` to organize code.\n",
    "\n",
    "In general we use *four spaces* to indent. However if you edit code that is already using tabs or 2 spaces keep consistency.\n",
    "\n",
    "Consistency with the existing code base is more important than some arbitrary set of styling rules\n",
    "\n",
    "## PEP 8\n",
    "\n",
    "PEP = Python Enhancement Proposal\n",
    "\n",
    "[Python style guide - PEP 8](https://www.python.org/dev/peps/pep-0008/)\n",
    "\n",
    "[Code Style - The Hitchhiker’s Guide to Python!](https://docs.python-guide.org/writing/style/)\n",
    "\n",
    "[Chapter 2 of Effective Python - Brett Slatkin](https://effectivepython.com/)\n",
    "\n",
    "Imports at the top of the `.py` file (each section in alphabetical order)\n",
    "- standard library\n",
    "- third party modules\n",
    "- your own modules\n",
    "\n",
    "Limits line length to **79 characters (the most discussed detail!)**"
   ]
  },
  {
   "cell_type": "markdown",
   "metadata": {},
   "source": [
    "# Some examples\n",
    "\n",
    "Inconsistent spaces\n",
    "`a = [1,2 ,3,4]`\n",
    "\n",
    "should be\n",
    "`a = [1, 2, 3,4]`\n",
    "\n",
    "Wrong indentation, and no trailing comma:\n",
    "```\n",
    "a = foo(\n",
    "267894,\n",
    "367894 ,\n",
    "467894\n",
    ")\n",
    "```\n",
    "\n",
    "better:\n",
    "```\n",
    "a = foo(\n",
    "    267894,\n",
    "    367894,\n",
    "    467894,\n",
    ")\n",
    "```\n"
   ]
  },
  {
   "cell_type": "markdown",
   "metadata": {},
   "source": [
    "## Ruff\n",
    "\n",
    "You can use a tool like `ruff` to both reformat and check the formatting of your code.\n",
    "\n",
    "To format all the Python files under the `app` folder\n",
    "`ruff format app/*.py`\n",
    "\n",
    "to check the formatting (without changing it):\n",
    "\n",
    "`ruff check app/`\n",
    "\n",
    "\n",
    "Some use `flake8` for this, or `black`.\n",
    "\n",
    "In 2025 ruff is probably the best option, but it's trivial to switch from one to the other.\n",
    "\n",
    "These tools are most useful when automated, using `git commit hooks` or in a `CI/CD` pipeline."
   ]
  }
 ],
 "metadata": {
  "kernelspec": {
   "display_name": "Python 3 (ipykernel)",
   "language": "python",
   "name": "python3"
  },
  "language_info": {
   "codemirror_mode": {
    "name": "ipython",
    "version": 3
   },
   "file_extension": ".py",
   "mimetype": "text/x-python",
   "name": "python",
   "nbconvert_exporter": "python",
   "pygments_lexer": "ipython3",
   "version": "3.13.2"
  }
 },
 "nbformat": 4,
 "nbformat_minor": 4
}
