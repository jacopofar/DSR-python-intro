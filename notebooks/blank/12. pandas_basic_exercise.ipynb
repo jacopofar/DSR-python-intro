{
 "cells": [
  {
   "cell_type": "markdown",
   "metadata": {},
   "source": [
    "# Exercise\n",
    "\n",
    "In the following we are conducting several exercises about basic pandas analysis.\n",
    "\n",
    "In this exercise, you will work with a fictional dataset containing sales data for a retail store. The dataset is provided in CSV format and consists of the following columns:\n",
    "\n",
    "1. Order_ID: Unique identifier for each order.\n",
    "2. Product: Name of the product sold.\n",
    "3. Category: Category of the product (e.g., Electronics, Clothing, Furniture).\n",
    "4. Price: Price of the product.\n",
    "5. Quantity: Quantity of the product sold.\n",
    "5. Order_Date: Date and time of the order.\n",
    "Your task is to use pandas to perform various data analysis tasks and derive insights from the dataset."
   ]
  },
  {
   "cell_type": "code",
   "execution_count": 2,
   "metadata": {},
   "outputs": [],
   "source": [
    "import pandas as pd\n",
    "\n",
    "# Create a fictional dataset\n",
    "data = {\n",
    "    'Employee_ID': [101, 102, 103, 104, 105],\n",
    "    'Name': ['John', 'Alice', 'Bob', 'Emily', 'David'],\n",
    "    'Department': ['HR', 'IT', 'Marketing', 'Finance', 'HR'],\n",
    "    'Position': ['Manager', 'Developer', 'Marketing Specialist', 'Accountant', 'HR Assistant'],\n",
    "    'Salary': [6000, 5000, 4500, 5500, 4000],\n",
    "    'Hire_Date': ['2020-01-15', '2019-05-20', '2020-03-10', '2018-11-25', '2021-02-05']\n",
    "}\n",
    "\n",
    "# Convert the dictionary to a DataFrame\n",
    "df = pd.DataFrame(data)\n"
   ]
  },
  {
   "cell_type": "markdown",
   "metadata": {},
   "source": [
    "### 2. Display Basic Information:\n",
    "- Display the first 5 rows of the DataFrame.\n",
    "- Display the basic information about the DataFrame (number of rows, columns, data types, memory usage)."
   ]
  },
  {
   "cell_type": "code",
   "execution_count": null,
   "metadata": {},
   "outputs": [],
   "source": []
  },
  {
   "cell_type": "markdown",
   "metadata": {},
   "source": [
    "### 2.Summary Statistics:\n",
    "- Calculate and display summary statistics for numerical columns (count, mean, min, max, etc.)."
   ]
  },
  {
   "cell_type": "code",
   "execution_count": null,
   "metadata": {},
   "outputs": [],
   "source": []
  },
  {
   "cell_type": "markdown",
   "metadata": {},
   "source": [
    "3. Data Manipulation:\n",
    "- Convert the Hire_Date column to datetime format.\n",
    "- Add a new column named Years_Worked that represents the number of years each employee has worked in the company (as of the current year)."
   ]
  },
  {
   "cell_type": "code",
   "execution_count": null,
   "metadata": {},
   "outputs": [],
   "source": []
  },
  {
   "cell_type": "markdown",
   "metadata": {},
   "source": [
    "### 4. Data Filtering:\n",
    "- Filter the DataFrame to include only employees who work in the 'HR' department.\n",
    "- Display the filtered DataFrame."
   ]
  },
  {
   "cell_type": "code",
   "execution_count": null,
   "metadata": {},
   "outputs": [],
   "source": []
  }
 ],
 "metadata": {
  "kernelspec": {
   "display_name": "Python 3 (ipykernel)",
   "language": "python",
   "name": "python3"
  },
  "language_info": {
   "codemirror_mode": {
    "name": "ipython",
    "version": 3
   },
   "file_extension": ".py",
   "mimetype": "text/x-python",
   "name": "python",
   "nbconvert_exporter": "python",
   "pygments_lexer": "ipython3",
   "version": "3.13.2"
  }
 },
 "nbformat": 4,
 "nbformat_minor": 4
}
