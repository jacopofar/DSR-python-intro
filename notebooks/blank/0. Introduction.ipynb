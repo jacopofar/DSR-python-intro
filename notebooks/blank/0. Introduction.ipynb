{
 "cells": [
  {
   "cell_type": "markdown",
   "metadata": {},
   "source": [
    "# About Me:\n",
    "## Data Engineer at Flixbus\n",
    "\n",
    "\n",
    "### MSc Computer Engineering\n",
    "\n",
    "#### Contact: \n",
    "jacopo1.farina at gmail com \n",
    "\n",
    "* [Technical blog](https://jacopofarina.eu/)\n",
    "* [Github](https://github.com/jacopofar/)\n",
    "* [Linkedin](https://www.linkedin.com/in/farinajacopo/)\n"
   ]
  },
  {
   "cell_type": "markdown",
   "metadata": {},
   "source": [
    "# About You:\n",
    "- Name\n",
    "- Background (work & academic)\n",
    "- Potential project ideas\n",
    "- Plans after DSR"
   ]
  }
 ],
 "metadata": {
  "kernelspec": {
   "display_name": "Python 3 (ipykernel)",
   "language": "python",
   "name": "python3"
  },
  "language_info": {
   "codemirror_mode": {
    "name": "ipython",
    "version": 3
   },
   "file_extension": ".py",
   "mimetype": "text/x-python",
   "name": "python",
   "nbconvert_exporter": "python",
   "pygments_lexer": "ipython3",
   "version": "3.13.2"
  }
 },
 "nbformat": 4,
 "nbformat_minor": 4
}
