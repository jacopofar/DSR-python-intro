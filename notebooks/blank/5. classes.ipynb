{
 "cells": [
  {
   "cell_type": "markdown",
   "metadata": {},
   "source": [
    "# Classes\n",
    "\n",
    "Next to functions there are also python classes.\n",
    "A class is a blueprint for creating objects, objects based on a class are called \"instances\" of it.\n",
    "\n",
    "An object has properties and methods (functions) associated with it. Almost everything in Python is an object, with its properties and methods. A class is a way to bundle data and functionality together.\n",
    "\n",
    "One would initiate the class like that:"
   ]
  },
  {
   "cell_type": "code",
   "execution_count": null,
   "metadata": {},
   "outputs": [],
   "source": []
  },
  {
   "cell_type": "markdown",
   "metadata": {},
   "source": [
    "There are two main things that classes are capable of of. Attributes and methods. Attributes are variables that are associated with a class. Methods are functions that are associated with a class. "
   ]
  },
  {
   "cell_type": "code",
   "execution_count": null,
   "metadata": {},
   "outputs": [],
   "source": []
  },
  {
   "cell_type": "markdown",
   "metadata": {},
   "source": [
    "One could call the attribute like that..."
   ]
  },
  {
   "cell_type": "code",
   "execution_count": null,
   "metadata": {},
   "outputs": [],
   "source": []
  },
  {
   "cell_type": "markdown",
   "metadata": {},
   "source": [
    "Attributes are therefore a way that we can store data in a class. On the other side a method is a function that is associated with a class.\n",
    "Here is an example:"
   ]
  },
  {
   "cell_type": "code",
   "execution_count": null,
   "metadata": {},
   "outputs": [],
   "source": []
  },
  {
   "cell_type": "code",
   "execution_count": null,
   "metadata": {},
   "outputs": [],
   "source": []
  },
  {
   "cell_type": "markdown",
   "metadata": {},
   "source": [
    "The methods can take external input or simply work with the input that it was instantiated with."
   ]
  },
  {
   "cell_type": "code",
   "execution_count": null,
   "metadata": {},
   "outputs": [],
   "source": []
  },
  {
   "cell_type": "markdown",
   "metadata": {},
   "source": [
    "# Inheritance\n",
    "\n",
    "A class can extend another by inheriting from it.\n",
    "\n",
    "For example a class \"Square\" can inherit from class \"Shape\". In general if A inherits from B we can say that every A is B (every Square is a Shape).\n",
    "\n",
    "Inheriting allows you to redefine only what is needed.\n",
    "\n",
    "Python (unlike for example Java) allows multiple inheritance.\n",
    "\n",
    "Compared to Java, since Python has a less powerful type checking but more powerful namespacing and data structures features and syntax, OOP is less common but still possible."
   ]
  }
 ],
 "metadata": {
  "kernelspec": {
   "display_name": "Python 3 (ipykernel)",
   "language": "python",
   "name": "python3"
  },
  "language_info": {
   "codemirror_mode": {
    "name": "ipython",
    "version": 3
   },
   "file_extension": ".py",
   "mimetype": "text/x-python",
   "name": "python",
   "nbconvert_exporter": "python",
   "pygments_lexer": "ipython3",
   "version": "3.13.2"
  }
 },
 "nbformat": 4,
 "nbformat_minor": 4
}
