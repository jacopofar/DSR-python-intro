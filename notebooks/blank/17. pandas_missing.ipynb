{
 "cells": [
  {
   "cell_type": "markdown",
   "id": "11f60c0f",
   "metadata": {},
   "source": [
    "# Pandas Data Manipulation Tutorial\n",
    "\n",
    "In this tutorial, we will cover various aspects of data manipulation in Pandas library of Python. We will go through the following topics:\n",
    "\n",
    "1. What are Missing Values and Why do They Occur?\n",
    "2. How to Find Missing Values\n",
    "3. Shape of Pandas DataFrames\n",
    "4. Missing Values in Time Series Data\n",
    "5. Creating a New Column\n",
    "6. Pandas Profiling\n",
    "\n",
    "Let's get started!\n"
   ]
  },
  {
   "cell_type": "markdown",
   "id": "73b6a1ff",
   "metadata": {},
   "source": [
    "## 1. What are Missing Values and Why do They Occur?\n",
    "\n",
    "Missing values are simply the values that are not present in a dataset. They occur due to various reasons such as data entry errors, equipment malfunctions, or data not being collected.\n",
    "Missing values can cause problems during data analysis and modeling, as they may skew the results or lead to incorrect conclusions.\n"
   ]
  },
  {
   "cell_type": "markdown",
   "id": "4104994e",
   "metadata": {},
   "source": [
    "## 2. How to Find Missing Values\n",
    "\n",
    "Pandas provides methods like `isnull()` and `any()` to find missing values in a DataFrame.\n",
    "\n",
    "Let's demonstrate how to use these commands.\n"
   ]
  },
  {
   "cell_type": "markdown",
   "id": "da09732b",
   "metadata": {},
   "source": [
    "## 3. Shape of Pandas DataFrames\n",
    "\n",
    "The shape of a DataFrame tells us the dimensions of the DataFrame, i.e., the number of rows and columns.\n",
    "\n",
    "We'll show how to get the shape of a DataFrame.\n"
   ]
  },
  {
   "cell_type": "markdown",
   "id": "2363e1e8",
   "metadata": {},
   "source": [
    "## 4. Missing Values in Time Series Data\n",
    "\n",
    "In time series data, missing values can occur due to various reasons such as equipment failure or network issues. \n",
    "We can handle missing values in time series data using methods like forward fill, backward fill, or interpolation.\n",
    "\n",
    "We'll demonstrate these methods with examples.\n"
   ]
  },
  {
   "cell_type": "markdown",
   "id": "d8d0830e",
   "metadata": {},
   "source": [
    "## 5. Creating a New Column\n",
    "\n",
    "We can create a new column in a DataFrame by performing operations on existing columns.\n",
    "Let's illustrate this with an example where we create a new column by taking the sum of two existing columns.\n"
   ]
  },
  {
   "cell_type": "markdown",
   "id": "c6cefc91",
   "metadata": {},
   "source": [
    "## 6. Pandas Profiling\n",
    "\n",
    "Pandas Profiling is a package that generates profile reports from a DataFrame, providing quick insights into the data.\n",
    "It generates a detailed report containing information about the data types, missing values, distributions, correlations, etc.\n",
    "\n",
    "We'll show how to use Pandas Profiling and discuss its benefits.\n"
   ]
  },
  {
   "cell_type": "markdown",
   "id": "f89edc77",
   "metadata": {},
   "source": [
    "## Dataset\n",
    "\n",
    "Let's create a sample dataset that we'll use throughout this tutorial.\n",
    "We'll create a DataFrame with columns `A`, `B`, and `C`."
   ]
  },
  {
   "cell_type": "code",
   "execution_count": 1,
   "id": "9dc5e4b6",
   "metadata": {},
   "outputs": [
    {
     "data": {
      "text/html": [
       "<div>\n",
       "<style scoped>\n",
       "    .dataframe tbody tr th:only-of-type {\n",
       "        vertical-align: middle;\n",
       "    }\n",
       "\n",
       "    .dataframe tbody tr th {\n",
       "        vertical-align: top;\n",
       "    }\n",
       "\n",
       "    .dataframe thead th {\n",
       "        text-align: right;\n",
       "    }\n",
       "</style>\n",
       "<table border=\"1\" class=\"dataframe\">\n",
       "  <thead>\n",
       "    <tr style=\"text-align: right;\">\n",
       "      <th></th>\n",
       "      <th>A</th>\n",
       "      <th>B</th>\n",
       "      <th>C</th>\n",
       "    </tr>\n",
       "  </thead>\n",
       "  <tbody>\n",
       "    <tr>\n",
       "      <th>0</th>\n",
       "      <td>1.0</td>\n",
       "      <td>5.0</td>\n",
       "      <td>NaN</td>\n",
       "    </tr>\n",
       "    <tr>\n",
       "      <th>1</th>\n",
       "      <td>2.0</td>\n",
       "      <td>NaN</td>\n",
       "      <td>NaN</td>\n",
       "    </tr>\n",
       "    <tr>\n",
       "      <th>2</th>\n",
       "      <td>NaN</td>\n",
       "      <td>NaN</td>\n",
       "      <td>NaN</td>\n",
       "    </tr>\n",
       "    <tr>\n",
       "      <th>3</th>\n",
       "      <td>4.0</td>\n",
       "      <td>8.0</td>\n",
       "      <td>NaN</td>\n",
       "    </tr>\n",
       "  </tbody>\n",
       "</table>\n",
       "</div>"
      ],
      "text/plain": [
       "     A    B   C\n",
       "0  1.0  5.0 NaN\n",
       "1  2.0  NaN NaN\n",
       "2  NaN  NaN NaN\n",
       "3  4.0  8.0 NaN"
      ]
     },
     "execution_count": 1,
     "metadata": {},
     "output_type": "execute_result"
    }
   ],
   "source": [
    "# Importing necessary libraries\n",
    "import pandas as pd\n",
    "import numpy as np\n",
    "\n",
    "# Creating the sample dataset\n",
    "data = {\n",
    "    'A': [1, 2, np.nan, 4],\n",
    "    'B': [5, np.nan, np.nan, 8],\n",
    "    'C': [np.nan, np.nan, np.nan, np.nan]\n",
    "}\n",
    "\n",
    "# Creating DataFrame\n",
    "df = pd.DataFrame(data)\n",
    "\n",
    "# Displaying the dataset\n",
    "df\n"
   ]
  },
  {
   "cell_type": "markdown",
   "id": "201998dd",
   "metadata": {},
   "source": [
    "## 1. What are Missing Values and Why do They Occur?\n",
    "\n",
    "Let's explore the dataset to identify missing values.\n"
   ]
  },
  {
   "cell_type": "code",
   "execution_count": 3,
   "id": "3f03757f",
   "metadata": {},
   "outputs": [
    {
     "name": "stdout",
     "output_type": "stream",
     "text": [
      "A    bool\n",
      "B    bool\n",
      "C    bool\n",
      "dtype: object\n"
     ]
    },
    {
     "data": {
      "text/html": [
       "<div>\n",
       "<style scoped>\n",
       "    .dataframe tbody tr th:only-of-type {\n",
       "        vertical-align: middle;\n",
       "    }\n",
       "\n",
       "    .dataframe tbody tr th {\n",
       "        vertical-align: top;\n",
       "    }\n",
       "\n",
       "    .dataframe thead th {\n",
       "        text-align: right;\n",
       "    }\n",
       "</style>\n",
       "<table border=\"1\" class=\"dataframe\">\n",
       "  <thead>\n",
       "    <tr style=\"text-align: right;\">\n",
       "      <th></th>\n",
       "      <th>A</th>\n",
       "      <th>B</th>\n",
       "      <th>C</th>\n",
       "    </tr>\n",
       "  </thead>\n",
       "  <tbody>\n",
       "    <tr>\n",
       "      <th>0</th>\n",
       "      <td>False</td>\n",
       "      <td>False</td>\n",
       "      <td>True</td>\n",
       "    </tr>\n",
       "    <tr>\n",
       "      <th>1</th>\n",
       "      <td>False</td>\n",
       "      <td>True</td>\n",
       "      <td>True</td>\n",
       "    </tr>\n",
       "    <tr>\n",
       "      <th>2</th>\n",
       "      <td>True</td>\n",
       "      <td>True</td>\n",
       "      <td>True</td>\n",
       "    </tr>\n",
       "    <tr>\n",
       "      <th>3</th>\n",
       "      <td>False</td>\n",
       "      <td>False</td>\n",
       "      <td>True</td>\n",
       "    </tr>\n",
       "  </tbody>\n",
       "</table>\n",
       "</div>"
      ],
      "text/plain": [
       "       A      B     C\n",
       "0  False  False  True\n",
       "1  False   True  True\n",
       "2   True   True  True\n",
       "3  False  False  True"
      ]
     },
     "execution_count": 3,
     "metadata": {},
     "output_type": "execute_result"
    }
   ],
   "source": [
    "missing_values = df.isnull()\n",
    "# we get a dataframe where everything is boolean\n",
    "print(missing_values.dtypes)\n",
    "missing_values"
   ]
  },
  {
   "cell_type": "code",
   "execution_count": 20,
   "id": "1c91b783",
   "metadata": {},
   "outputs": [
    {
     "data": {
      "text/plain": [
       "A    True\n",
       "B    True\n",
       "C    True\n",
       "dtype: bool"
      ]
     },
     "execution_count": 20,
     "metadata": {},
     "output_type": "execute_result"
    }
   ],
   "source": [
    "any_missing = df.isnull().any()\n",
    "# this is a series. Use any_missing.index and any_missing.values to access the index and values separately\n",
    "any_missing\n"
   ]
  },
  {
   "cell_type": "markdown",
   "id": "407547e0",
   "metadata": {},
   "source": [
    "## 3. Shape of Pandas DataFrames\n",
    "\n",
    "Let's get the shape of the DataFrame.\n"
   ]
  },
  {
   "cell_type": "code",
   "execution_count": 21,
   "id": "d83a363f",
   "metadata": {},
   "outputs": [
    {
     "data": {
      "text/plain": [
       "(4, 3)"
      ]
     },
     "execution_count": 21,
     "metadata": {},
     "output_type": "execute_result"
    }
   ],
   "source": [
    "# Getting the shape of DataFrame\n",
    "df_shape = df.shape\n",
    "df_shape"
   ]
  },
  {
   "cell_type": "markdown",
   "id": "e06e7080",
   "metadata": {},
   "source": [
    "## 4. Missing Values in Time Series Data\n",
    "\n",
    "Let's demonstrate how to handle missing values in time series data using forward fill, backward fill, and interpolation methods.\n",
    "\n",
    "NOTE: this operation is often called \"imputation\". It's a big part of most data pipelines and essentially manual. It's hard to automate because it requires context on what you are doing to decide which strategy to apply, or no strategy at all if you'd rather notify of the error.\n"
   ]
  },
  {
   "cell_type": "markdown",
   "id": "dc06de83",
   "metadata": {},
   "source": [
    "## 5. Creating a New Column\n",
    "\n",
    "Let's create a new column `D` by taking the sum of columns `A` and `B`.\n"
   ]
  },
  {
   "cell_type": "code",
   "execution_count": 22,
   "id": "042de49a",
   "metadata": {},
   "outputs": [
    {
     "data": {
      "text/html": [
       "<div>\n",
       "<style scoped>\n",
       "    .dataframe tbody tr th:only-of-type {\n",
       "        vertical-align: middle;\n",
       "    }\n",
       "\n",
       "    .dataframe tbody tr th {\n",
       "        vertical-align: top;\n",
       "    }\n",
       "\n",
       "    .dataframe thead th {\n",
       "        text-align: right;\n",
       "    }\n",
       "</style>\n",
       "<table border=\"1\" class=\"dataframe\">\n",
       "  <thead>\n",
       "    <tr style=\"text-align: right;\">\n",
       "      <th></th>\n",
       "      <th>A</th>\n",
       "      <th>B</th>\n",
       "      <th>C</th>\n",
       "      <th>D</th>\n",
       "    </tr>\n",
       "  </thead>\n",
       "  <tbody>\n",
       "    <tr>\n",
       "      <th>0</th>\n",
       "      <td>1.0</td>\n",
       "      <td>5.0</td>\n",
       "      <td>NaN</td>\n",
       "      <td>6.0</td>\n",
       "    </tr>\n",
       "    <tr>\n",
       "      <th>1</th>\n",
       "      <td>2.0</td>\n",
       "      <td>NaN</td>\n",
       "      <td>NaN</td>\n",
       "      <td>NaN</td>\n",
       "    </tr>\n",
       "    <tr>\n",
       "      <th>2</th>\n",
       "      <td>NaN</td>\n",
       "      <td>NaN</td>\n",
       "      <td>NaN</td>\n",
       "      <td>NaN</td>\n",
       "    </tr>\n",
       "    <tr>\n",
       "      <th>3</th>\n",
       "      <td>4.0</td>\n",
       "      <td>8.0</td>\n",
       "      <td>NaN</td>\n",
       "      <td>12.0</td>\n",
       "    </tr>\n",
       "  </tbody>\n",
       "</table>\n",
       "</div>"
      ],
      "text/plain": [
       "     A    B   C     D\n",
       "0  1.0  5.0 NaN   6.0\n",
       "1  2.0  NaN NaN   NaN\n",
       "2  NaN  NaN NaN   NaN\n",
       "3  4.0  8.0 NaN  12.0"
      ]
     },
     "execution_count": 22,
     "metadata": {},
     "output_type": "execute_result"
    }
   ],
   "source": [
    "# Creating a new column\n",
    "df['D'] = df['A'] + df['B']\n",
    "\n",
    "# Displaying the updated DataFrame\n",
    "df"
   ]
  },
  {
   "cell_type": "markdown",
   "id": "e5492fbe",
   "metadata": {},
   "source": [
    "~~## 6. Pandas Profiling~~\n",
    "\n",
    "~~Let's generate a profile report using Pandas Profiling package.~~\n",
    "\n",
    "NOTE: this does not work on Python 3.12 and 3.13 because it relies on the cgi module, now removed.\n",
    "At the moment of upgrading this notebook (March 2025) looks like this package is not mantained anymore. This cell is here in case in the future there's a substitute."
   ]
  },
  {
   "cell_type": "code",
   "execution_count": null,
   "id": "3ccd4089",
   "metadata": {},
   "outputs": [],
   "source": [
    "# Installing pandas-profiling package\n",
    "# you can use this command, but be careful\n",
    "# about updating the requirements.txt/pyproject.toml if this dependency is part of your codebase\n",
    "# for quick experimentation it's fine\n",
    "\n",
    "# !python -m install pandas-profiling\n",
    "\n",
    "# Importing pandas_profiling\n",
    "from pandas_profiling import ProfileReport\n",
    "\n",
    "# Generating profile report\n",
    "profile = ProfileReport(df)\n",
    "profile.to_file('profile_report.html')\n",
    "profile\n"
   ]
  }
 ],
 "metadata": {
  "kernelspec": {
   "display_name": "Python 3 (ipykernel)",
   "language": "python",
   "name": "python3"
  },
  "language_info": {
   "codemirror_mode": {
    "name": "ipython",
    "version": 3
   },
   "file_extension": ".py",
   "mimetype": "text/x-python",
   "name": "python",
   "nbconvert_exporter": "python",
   "pygments_lexer": "ipython3",
   "version": "3.13.2"
  }
 },
 "nbformat": 4,
 "nbformat_minor": 5
}
