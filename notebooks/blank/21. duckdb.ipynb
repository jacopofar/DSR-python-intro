{
 "cells": [
  {
   "cell_type": "markdown",
   "id": "10e2ed25-f88d-45cd-9d78-2f5edb3b27eb",
   "metadata": {},
   "source": [
    "# The new kid on the block: DuckDB\n",
    "\n",
    "Version 1.0 of DuckDB was released in 2024, it's pretty new and probably a must for data scientists.\n",
    "\n",
    "In my opinion it's one of the most effective ways to process tabular data.\n",
    "\n",
    "## What is it?\n",
    "\n",
    "In short, is a tool to run SQL queries against files and dataframes. The SQL dialect is extremely sophisticated and it can directly read and write pandas dataframes, CSV fils, parquet, JSON and others, locally of from URLs or S3.\n",
    "\n",
    "You will have a complete lesson on SQL later on, and we'll meet again and see the pros and cons of thes files format.\n",
    "\n",
    "For today, this in just an overview"
   ]
  }
 ],
 "metadata": {
  "kernelspec": {
   "display_name": "Python 3 (ipykernel)",
   "language": "python",
   "name": "python3"
  },
  "language_info": {
   "codemirror_mode": {
    "name": "ipython",
    "version": 3
   },
   "file_extension": ".py",
   "mimetype": "text/x-python",
   "name": "python",
   "nbconvert_exporter": "python",
   "pygments_lexer": "ipython3",
   "version": "3.13.2"
  }
 },
 "nbformat": 4,
 "nbformat_minor": 5
}
